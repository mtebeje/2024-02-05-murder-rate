{
 "cells": [
  {
   "cell_type": "code",
   "execution_count": 6,
   "id": "d4ddc853",
   "metadata": {},
   "outputs": [],
   "source": [
    "chicago_murder_rate_per_100k = (762 / 2_705_00) * 100_000"
   ]
  },
  {
   "cell_type": "code",
   "execution_count": 7,
   "id": "cf01afde",
   "metadata": {},
   "outputs": [
    {
     "data": {
      "text/plain": [
       "281.7005545286506"
      ]
     },
     "execution_count": 7,
     "metadata": {},
     "output_type": "execute_result"
    }
   ],
   "source": [
    "chicago_murder_rate_per_100k"
   ]
  },
  {
   "cell_type": "code",
   "execution_count": 8,
   "id": "90f18305",
   "metadata": {},
   "outputs": [],
   "source": [
    "LA_murder_rate_per_100k = (294/3_976_000) * 100_000"
   ]
  },
  {
   "cell_type": "code",
   "execution_count": 9,
   "id": "80089410",
   "metadata": {},
   "outputs": [
    {
     "data": {
      "text/plain": [
       "7.394366197183098"
      ]
     },
     "execution_count": 9,
     "metadata": {},
     "output_type": "execute_result"
    }
   ],
   "source": [
    "LA_murder_rate_per_100k"
   ]
  },
  {
   "cell_type": "code",
   "execution_count": 12,
   "id": "994f437d",
   "metadata": {},
   "outputs": [],
   "source": [
    "NYC_murder_rate_per_100k = (334/8_538_000) * 100_000"
   ]
  },
  {
   "cell_type": "code",
   "execution_count": 13,
   "id": "9fe23e5f",
   "metadata": {},
   "outputs": [
    {
     "data": {
      "text/plain": [
       "3.911923167018037"
      ]
     },
     "execution_count": 13,
     "metadata": {},
     "output_type": "execute_result"
    }
   ],
   "source": [
    "NYC_murder_rate_per_100k"
   ]
  },
  {
   "cell_type": "code",
   "execution_count": 14,
   "id": "2646fe43",
   "metadata": {},
   "outputs": [],
   "source": [
    "SanJose_murder_rate_per_100k = (47/1_025_000) * 100_000"
   ]
  },
  {
   "cell_type": "code",
   "execution_count": 15,
   "id": "73cb0b0f",
   "metadata": {},
   "outputs": [
    {
     "data": {
      "text/plain": [
       "4.585365853658536"
      ]
     },
     "execution_count": 15,
     "metadata": {},
     "output_type": "execute_result"
    }
   ],
   "source": [
    "SanJose_murder_rate_per_100k"
   ]
  },
  {
   "cell_type": "code",
   "execution_count": 22,
   "id": "be6adceb",
   "metadata": {},
   "outputs": [
    {
     "name": "stdout",
     "output_type": "stream",
     "text": [
      "Sane Jose has the lowest murder rate at  4.585365853658536 per 100k. Chicago has the highest murder rate at 281.7005545286506 per 100k.\n"
     ]
    }
   ],
   "source": [
    "print(f\"Sane Jose has the lowest murder rate at \\\n",
    " {SanJose_murder_rate_per_100k} per 100k.\\\n",
    " Chicago has the highest murder rate at {chicago_murder_rate_per_100k} per 100k.\")"
   ]
  },
  {
   "cell_type": "code",
   "execution_count": null,
   "id": "5d01384e",
   "metadata": {},
   "outputs": [],
   "source": []
  }
 ],
 "metadata": {
  "kernelspec": {
   "display_name": "Python 3 (ipykernel)",
   "language": "python",
   "name": "python3"
  },
  "language_info": {
   "codemirror_mode": {
    "name": "ipython",
    "version": 3
   },
   "file_extension": ".py",
   "mimetype": "text/x-python",
   "name": "python",
   "nbconvert_exporter": "python",
   "pygments_lexer": "ipython3",
   "version": "3.11.5"
  }
 },
 "nbformat": 4,
 "nbformat_minor": 5
}
